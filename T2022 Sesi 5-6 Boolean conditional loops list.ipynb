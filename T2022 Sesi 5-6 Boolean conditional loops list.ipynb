{
 "cells": [
  {
   "cell_type": "markdown",
   "id": "23ee66ac",
   "metadata": {},
   "source": [
    "# Sesi 5 FGA Digital Talent Scholarship 2022"
   ]
  },
  {
   "cell_type": "markdown",
   "id": "669da685",
   "metadata": {},
   "source": [
    "File ini hanya digunakan untuk pelatihan Big Data using Python"
   ]
  },
  {
   "cell_type": "markdown",
   "id": "92587d8e",
   "metadata": {},
   "source": [
    "## Boolean & Operator"
   ]
  },
  {
   "cell_type": "code",
   "execution_count": 2,
   "id": "b4868eb7",
   "metadata": {},
   "outputs": [
    {
     "name": "stdout",
     "output_type": "stream",
     "text": [
      "10\n"
     ]
    }
   ],
   "source": [
    "val = 10\n",
    "print(val)"
   ]
  },
  {
   "cell_type": "code",
   "execution_count": 4,
   "id": "b3428f82",
   "metadata": {},
   "outputs": [
    {
     "name": "stdout",
     "output_type": "stream",
     "text": [
      "False\n"
     ]
    }
   ],
   "source": [
    "print(val==1)"
   ]
  },
  {
   "cell_type": "markdown",
   "id": "b9335824",
   "metadata": {},
   "source": [
    "= --> Assignment\n",
    "== --> Comparison"
   ]
  },
  {
   "cell_type": "code",
   "execution_count": 6,
   "id": "3673af46",
   "metadata": {},
   "outputs": [
    {
     "data": {
      "text/plain": [
       "bool"
      ]
     },
     "execution_count": 6,
     "metadata": {},
     "output_type": "execute_result"
    }
   ],
   "source": [
    "type(False)"
   ]
  },
  {
   "cell_type": "code",
   "execution_count": 9,
   "id": "7260a6c6",
   "metadata": {},
   "outputs": [
    {
     "data": {
      "text/plain": [
       "'text'"
      ]
     },
     "execution_count": 9,
     "metadata": {},
     "output_type": "execute_result"
    }
   ],
   "source": [
    "bool = \"text\"\n",
    "bool"
   ]
  },
  {
   "cell_type": "code",
   "execution_count": 10,
   "id": "bea7db02",
   "metadata": {},
   "outputs": [
    {
     "data": {
      "text/plain": [
       "True"
      ]
     },
     "execution_count": 10,
     "metadata": {},
     "output_type": "execute_result"
    }
   ],
   "source": [
    "True == 1"
   ]
  },
  {
   "cell_type": "code",
   "execution_count": 11,
   "id": "9e5d4848",
   "metadata": {},
   "outputs": [
    {
     "data": {
      "text/plain": [
       "True"
      ]
     },
     "execution_count": 11,
     "metadata": {},
     "output_type": "execute_result"
    }
   ],
   "source": [
    "False == 0"
   ]
  },
  {
   "cell_type": "code",
   "execution_count": 12,
   "id": "85ddfdbd",
   "metadata": {},
   "outputs": [
    {
     "data": {
      "text/plain": [
       "1.0"
      ]
     },
     "execution_count": 12,
     "metadata": {},
     "output_type": "execute_result"
    }
   ],
   "source": [
    "True + (False/True)"
   ]
  },
  {
   "cell_type": "markdown",
   "id": "567a9274",
   "metadata": {},
   "source": [
    "Operasi or dan and, jika di C/C++ menggunakan ||-> or dan && -> and"
   ]
  },
  {
   "cell_type": "code",
   "execution_count": 13,
   "id": "d3046d88",
   "metadata": {},
   "outputs": [
    {
     "data": {
      "text/plain": [
       "True"
      ]
     },
     "execution_count": 13,
     "metadata": {},
     "output_type": "execute_result"
    }
   ],
   "source": [
    "10 > 1 or 9 < 3 "
   ]
  },
  {
   "cell_type": "code",
   "execution_count": 14,
   "id": "7d9e7be2",
   "metadata": {},
   "outputs": [
    {
     "data": {
      "text/plain": [
       "False"
      ]
     },
     "execution_count": 14,
     "metadata": {},
     "output_type": "execute_result"
    }
   ],
   "source": [
    "10 > 1 and 9 < 3"
   ]
  },
  {
   "cell_type": "code",
   "execution_count": 16,
   "id": "04a5ab45",
   "metadata": {},
   "outputs": [
    {
     "data": {
      "text/plain": [
       "False"
      ]
     },
     "execution_count": 16,
     "metadata": {},
     "output_type": "execute_result"
    }
   ],
   "source": [
    "1 < 3 < 10 < 8"
   ]
  },
  {
   "cell_type": "code",
   "execution_count": 17,
   "id": "8b2b0f21",
   "metadata": {},
   "outputs": [
    {
     "data": {
      "text/plain": [
       "True"
      ]
     },
     "execution_count": 17,
     "metadata": {},
     "output_type": "execute_result"
    }
   ],
   "source": [
    "(1<5<9) or (9>3<1)"
   ]
  },
  {
   "cell_type": "code",
   "execution_count": null,
   "id": "c99fe85f",
   "metadata": {},
   "outputs": [],
   "source": []
  },
  {
   "cell_type": "markdown",
   "id": "eecda6b7",
   "metadata": {},
   "source": [
    "Exercise\n",
    "\n",
    "Using one of the comparison operators in Python, write a simple two-line program that takes the parameter n as input, which is an integer, and prints False if n is less than 100, and True if n is greater than or equal to 100.\n",
    "\n",
    "Don't create any if blocks (we're going to talk about them very soon). Test your code using the data we've provided for you.\n"
   ]
  },
  {
   "cell_type": "code",
   "execution_count": null,
   "id": "5ba3d33c",
   "metadata": {},
   "outputs": [],
   "source": []
  },
  {
   "cell_type": "markdown",
   "id": "8e7c030d",
   "metadata": {},
   "source": [
    "## Conditional"
   ]
  },
  {
   "cell_type": "markdown",
   "id": "4b5bd948",
   "metadata": {},
   "source": [
    "<img src=\"IF-1.PNG\" />"
   ]
  },
  {
   "cell_type": "markdown",
   "id": "78f5ef52",
   "metadata": {},
   "source": [
    "Conditional if..."
   ]
  },
  {
   "cell_type": "code",
   "execution_count": 19,
   "id": "36139056",
   "metadata": {},
   "outputs": [
    {
     "name": "stdout",
     "output_type": "stream",
     "text": [
      "0.1\n"
     ]
    }
   ],
   "source": [
    "x = float(input())\n",
    "\n",
    "if x < 0:\n",
    "    print(\"Negative number\")"
   ]
  },
  {
   "cell_type": "markdown",
   "id": "918e2b5e",
   "metadata": {},
   "source": [
    "Conditional if... else"
   ]
  },
  {
   "cell_type": "code",
   "execution_count": 20,
   "id": "09379345",
   "metadata": {},
   "outputs": [
    {
     "name": "stdout",
     "output_type": "stream",
     "text": [
      "1.5\n",
      "Non Negative number\n"
     ]
    }
   ],
   "source": [
    "x = float(input())\n",
    "\n",
    "if x < 0:\n",
    "    print(\"Negative number\")\n",
    "else:\n",
    "    print(\"Non Negative number\")"
   ]
  },
  {
   "cell_type": "markdown",
   "id": "941e6448",
   "metadata": {},
   "source": [
    "conditional if...elif...else"
   ]
  },
  {
   "cell_type": "code",
   "execution_count": 22,
   "id": "4b30a6dd",
   "metadata": {},
   "outputs": [
    {
     "name": "stdout",
     "output_type": "stream",
     "text": [
      "8.54\n",
      "Positive number\n"
     ]
    }
   ],
   "source": [
    "x = float(input())\n",
    "\n",
    "if x < 0:\n",
    "    print(\"Negative number\")\n",
    "elif x==0:\n",
    "    print(\"Zero number\")\n",
    "else:\n",
    "    print(\"Positive number\")"
   ]
  },
  {
   "cell_type": "code",
   "execution_count": 25,
   "id": "b2f190c3",
   "metadata": {},
   "outputs": [
    {
     "name": "stdout",
     "output_type": "stream",
     "text": [
      "-0.5\n",
      "Negative number\n"
     ]
    }
   ],
   "source": [
    "x = float(input())\n",
    "\n",
    "if x > 0:\n",
    "    print(\"Positive number\")\n",
    "elif x < 0:\n",
    "    print(\"Negative number\")\n",
    "else:\n",
    "    print(\"Zero number\")"
   ]
  },
  {
   "cell_type": "markdown",
   "id": "05b7d05f",
   "metadata": {},
   "source": [
    "Buatlah program yang meminta inputan $n$ bilangan bulat dan dapat menentukan:\n",
    "\n",
    "1. Positif genap / ganjil\n",
    "2. Negatif genap / ganjil\n",
    "3. Bilangan nol\n",
    "\n"
   ]
  },
  {
   "cell_type": "code",
   "execution_count": 30,
   "id": "e617b993",
   "metadata": {},
   "outputs": [
    {
     "name": "stdout",
     "output_type": "stream",
     "text": [
      "2\n",
      "Positive number\n",
      "Even\n"
     ]
    }
   ],
   "source": [
    "x = int(input())\n"
   ]
  },
  {
   "cell_type": "markdown",
   "id": "da101349",
   "metadata": {},
   "source": [
    "Exercise"
   ]
  },
  {
   "cell_type": "markdown",
   "id": "9d94d8e6",
   "metadata": {},
   "source": [
    "<img src=\"IF-2.PNG\" />"
   ]
  },
  {
   "cell_type": "code",
   "execution_count": 28,
   "id": "d04733dc",
   "metadata": {},
   "outputs": [
    {
     "name": "stdout",
     "output_type": "stream",
     "text": [
      "2022\n",
      "Common year\n"
     ]
    }
   ],
   "source": [
    "year = int(input())\n",
    "\n",
    "if year < 1582:\n",
    "    print(\"Not within the Gregorian calendar period\")\n",
    "elif year%4 !=0:\n",
    "    print(\"Common year\")\n",
    "elif year%100 !=0:\n",
    "    print(\"Leap year\")\n",
    "elif year%400 !=0:\n",
    "    print(\"Common year\")\n",
    "else:\n",
    "    print(\"Leap year\")"
   ]
  },
  {
   "cell_type": "markdown",
   "id": "ceef3917",
   "metadata": {},
   "source": [
    "# Loop"
   ]
  },
  {
   "cell_type": "markdown",
   "id": "d0947337",
   "metadata": {},
   "source": [
    "<img src=\"While-1.PNG\" />"
   ]
  },
  {
   "cell_type": "code",
   "execution_count": 30,
   "id": "e7033c4d",
   "metadata": {},
   "outputs": [
    {
     "name": "stdout",
     "output_type": "stream",
     "text": [
      "test\n",
      "test\n",
      "test\n",
      "test\n",
      "test\n"
     ]
    }
   ],
   "source": [
    "n = 1\n",
    "\n",
    "while n < 100:\n",
    "    print(\"test\")\n",
    "    n = n + 20"
   ]
  },
  {
   "cell_type": "markdown",
   "id": "5bbfdede",
   "metadata": {},
   "source": [
    "Exercises"
   ]
  },
  {
   "cell_type": "markdown",
   "id": "2c3d6eac",
   "metadata": {},
   "source": [
    "<img src=\"While-2.PNG\" />"
   ]
  },
  {
   "cell_type": "code",
   "execution_count": 31,
   "id": "29ff4537",
   "metadata": {},
   "outputs": [
    {
     "name": "stdout",
     "output_type": "stream",
     "text": [
      "\n",
      "+================================+\n",
      "| Welcome to my game, muggle!    |\n",
      "| Enter an integer number        |\n",
      "| and guess what number I've     |\n",
      "| picked for you.                |\n",
      "| So, what is the secret number? |\n",
      "+================================+\n",
      "\n",
      "Guess: 10\n"
     ]
    }
   ],
   "source": [
    "secret_number = 777\n",
    "\n",
    "print(\n",
    "\"\"\"\n",
    "+================================+\n",
    "| Welcome to my game, muggle!    |\n",
    "| Enter an integer number        |\n",
    "| and guess what number I've     |\n",
    "| picked for you.                |\n",
    "| So, what is the secret number? |\n",
    "+================================+\n",
    "\"\"\")\n",
    "\n",
    "num = int(input(\"Guess: \"))\n",
    "\n"
   ]
  },
  {
   "cell_type": "markdown",
   "id": "80fd8a4f",
   "metadata": {},
   "source": [
    "<img src=\"While-3.PNG\" />"
   ]
  },
  {
   "cell_type": "code",
   "execution_count": 32,
   "id": "883d7e90",
   "metadata": {},
   "outputs": [
    {
     "name": "stdout",
     "output_type": "stream",
     "text": [
      "Tebak Kata\n",
      "saya\n",
      "kamu\n",
      "chupacabra\n"
     ]
    }
   ],
   "source": [
    "print(\"Tebak Kata\")\n",
    "\n",
    "i=1\n",
    "while i>0:\n",
    "    text = input()\n",
    "    if text == 'chupacabra':\n",
    "        break\n",
    "\n",
    "print(\"You are ...\")\n"
   ]
  },
  {
   "cell_type": "markdown",
   "id": "b4aeb96d",
   "metadata": {},
   "source": [
    "<img src=\"While-4.PNG\" />"
   ]
  },
  {
   "cell_type": "markdown",
   "id": "2945b643",
   "metadata": {},
   "source": [
    "# Sesi 6 FGA Digital Talent Scholarship 2022"
   ]
  },
  {
   "cell_type": "markdown",
   "id": "3a2f7939",
   "metadata": {},
   "source": [
    "<img src=\"For-1.PNG\" />"
   ]
  },
  {
   "cell_type": "code",
   "execution_count": 4,
   "id": "a70bc5f2",
   "metadata": {},
   "outputs": [
    {
     "name": "stdout",
     "output_type": "stream",
     "text": [
      "-2\n",
      "0\n",
      "2\n",
      "4\n",
      "else 4\n"
     ]
    }
   ],
   "source": [
    "for i in range(-2,6,2):\n",
    "    print(i)\n",
    "else:\n",
    "    print(\"else\",i)"
   ]
  },
  {
   "cell_type": "code",
   "execution_count": 5,
   "id": "6f9f2fa2",
   "metadata": {},
   "outputs": [
    {
     "name": "stdout",
     "output_type": "stream",
     "text": [
      "-2\n",
      "0\n",
      "2\n",
      "4\n",
      "6\n"
     ]
    }
   ],
   "source": [
    "i=-2\n",
    "while i<6:\n",
    "    print(i)\n",
    "    i = i + 2\n",
    "else:\n",
    "    print(i)"
   ]
  },
  {
   "cell_type": "markdown",
   "id": "3f2421ba",
   "metadata": {},
   "source": [
    "Break and continue"
   ]
  },
  {
   "cell_type": "code",
   "execution_count": 6,
   "id": "71764b68",
   "metadata": {},
   "outputs": [
    {
     "name": "stdout",
     "output_type": "stream",
     "text": [
      "The break instruction:\n",
      "Inside the loop  1\n",
      "Inside the loop  2\n",
      "Outside the loop.\n"
     ]
    }
   ],
   "source": [
    "print(\"The break instruction:\")\n",
    "for i in range(1,6):\n",
    "    if i==3:\n",
    "        break\n",
    "    print(\"Inside the loop \",i)\n",
    "\n",
    "print(\"Outside the loop.\")"
   ]
  },
  {
   "cell_type": "code",
   "execution_count": 7,
   "id": "3ed439f4",
   "metadata": {},
   "outputs": [
    {
     "name": "stdout",
     "output_type": "stream",
     "text": [
      "The continue instruction: \n",
      "Inside the loop  1\n",
      "Inside the loop  2\n",
      "Inside the loop  4\n",
      "Inside the loop  5\n",
      "Outside the loop.\n"
     ]
    }
   ],
   "source": [
    "print(\"The continue instruction: \")\n",
    "for i in range(1,6):\n",
    "    if i==3:\n",
    "        continue\n",
    "    print(\"Inside the loop \", i)\n",
    "    \n",
    "print(\"Outside the loop.\")"
   ]
  },
  {
   "cell_type": "markdown",
   "id": "a947192a",
   "metadata": {},
   "source": [
    "Exercise\n",
    "<img src=\"For-2.PNG\" />"
   ]
  },
  {
   "cell_type": "code",
   "execution_count": 8,
   "id": "7594fab4",
   "metadata": {},
   "outputs": [
    {
     "name": "stdout",
     "output_type": "stream",
     "text": [
      "Enter the number of visitors: 5\n",
      "Age: 2\n",
      "Age: 3\n",
      "Age: 6\n",
      "Age: 7\n",
      "Age: 19\n",
      "Total Cost: $ 65.0\n"
     ]
    }
   ],
   "source": [
    "Cost = 0\n",
    "\n",
    "n = int(input(\"Enter the number of visitors: \"))\n",
    "\n",
    "for i in range(1,n+1):\n",
    "    age = input(\"Age: \")\n",
    "    if age ==\" \":\n",
    "        break\n",
    "    \n",
    "    age = int(age)\n",
    "    if age <=2:\n",
    "        Cost += 0.00\n",
    "    elif age <=12:\n",
    "        Cost += 14.00\n",
    "    elif age <65:\n",
    "        Cost += 23.00\n",
    "    else:\n",
    "        Cost += 18.00\n",
    "        \n",
    "print(\"Total Cost: $\",Cost)"
   ]
  },
  {
   "cell_type": "markdown",
   "id": "7fb810f9",
   "metadata": {},
   "source": [
    "# Lists"
   ]
  },
  {
   "cell_type": "code",
   "execution_count": 9,
   "id": "b6c48d81",
   "metadata": {},
   "outputs": [
    {
     "name": "stdout",
     "output_type": "stream",
     "text": [
      "[1, 2, 3, 4]\n",
      "type:  <class 'list'>\n"
     ]
    }
   ],
   "source": [
    "mylist = [1,2,3,4]\n",
    "\n",
    "print(mylist)\n",
    "print(\"type: \",type(mylist))"
   ]
  },
  {
   "cell_type": "code",
   "execution_count": 10,
   "id": "22cdd938",
   "metadata": {},
   "outputs": [
    {
     "name": "stdout",
     "output_type": "stream",
     "text": [
      "['Andi', 'Budi', 'Nina']\n",
      "Panjang list:  3\n"
     ]
    }
   ],
   "source": [
    "mylist_1 = [\"Andi\", \"Budi\", \"Nina\"]\n",
    "print(mylist_1)\n",
    "print(\"Panjang list: \", len(mylist_1))"
   ]
  },
  {
   "cell_type": "code",
   "execution_count": 11,
   "id": "0785cb1c",
   "metadata": {},
   "outputs": [
    {
     "name": "stdout",
     "output_type": "stream",
     "text": [
      "[1, 'Andi', True, 'Budi', False, 'Nina']\n",
      "Panjang list:  6\n"
     ]
    }
   ],
   "source": [
    "mylist_2 = [1, \"Andi\", True, \"Budi\", False, \"Nina\"]\n",
    "print(mylist_2)\n",
    "print(\"Panjang list: \", len(mylist_2))"
   ]
  },
  {
   "cell_type": "code",
   "execution_count": 15,
   "id": "bdba04a8",
   "metadata": {},
   "outputs": [
    {
     "name": "stdout",
     "output_type": "stream",
     "text": [
      "False\n"
     ]
    }
   ],
   "source": [
    "print(mylist_2[4] == mylist_2[-4])"
   ]
  },
  {
   "cell_type": "code",
   "execution_count": 16,
   "id": "51c1d4b9",
   "metadata": {},
   "outputs": [
    {
     "name": "stdout",
     "output_type": "stream",
     "text": [
      "['Andi', True]\n"
     ]
    }
   ],
   "source": [
    "print(mylist_2[1:3])"
   ]
  },
  {
   "cell_type": "code",
   "execution_count": 17,
   "id": "b7eb851f",
   "metadata": {},
   "outputs": [
    {
     "name": "stdout",
     "output_type": "stream",
     "text": [
      "1\n",
      "Andi\n",
      "True\n",
      "Budi\n",
      "False\n",
      "Nina\n"
     ]
    }
   ],
   "source": [
    "for x in mylist_2:\n",
    "    print(x)"
   ]
  },
  {
   "cell_type": "code",
   "execution_count": 20,
   "id": "ce1e3e26",
   "metadata": {},
   "outputs": [
    {
     "name": "stdout",
     "output_type": "stream",
     "text": [
      "[1, 'Andi', True, 'Budi', False, 'Nina']\n"
     ]
    }
   ],
   "source": [
    "print(mylist_2)\n",
    "mylist_2[2:4] = [False, 'Bulan']"
   ]
  },
  {
   "cell_type": "code",
   "execution_count": 21,
   "id": "4dac7ece",
   "metadata": {},
   "outputs": [
    {
     "name": "stdout",
     "output_type": "stream",
     "text": [
      "[1, 'Andi', False, 'Bulan', False, 'Nina']\n"
     ]
    }
   ],
   "source": [
    "print(mylist_2)"
   ]
  },
  {
   "cell_type": "code",
   "execution_count": 22,
   "id": "7a6a9225",
   "metadata": {},
   "outputs": [
    {
     "name": "stdout",
     "output_type": "stream",
     "text": [
      "[1, 'Andi', False, 2.5, 'Bulan', False, 'Nina']\n"
     ]
    }
   ],
   "source": [
    "mylist_2.insert(3,2.5)\n",
    "print(mylist_2)"
   ]
  },
  {
   "cell_type": "code",
   "execution_count": 23,
   "id": "350e8b91",
   "metadata": {},
   "outputs": [
    {
     "name": "stdout",
     "output_type": "stream",
     "text": [
      "[1, 'Andi', False, 2.5, 'Bulan', False, 'Nina', True]\n"
     ]
    }
   ],
   "source": [
    "mylist_2.append(True)\n",
    "print(mylist_2)"
   ]
  },
  {
   "cell_type": "code",
   "execution_count": 24,
   "id": "6625b4ce",
   "metadata": {},
   "outputs": [
    {
     "name": "stdout",
     "output_type": "stream",
     "text": [
      "[1, 'Andi', 2.5, 'Bulan', False, 'Nina', True]\n"
     ]
    }
   ],
   "source": [
    "mylist_2.remove(False)\n",
    "print(mylist_2)"
   ]
  },
  {
   "cell_type": "code",
   "execution_count": 25,
   "id": "dd0ba348",
   "metadata": {},
   "outputs": [
    {
     "name": "stdout",
     "output_type": "stream",
     "text": [
      "[1, 'Andi', 2.5, 'Bulan', False, 'Nina']\n"
     ]
    }
   ],
   "source": [
    "mylist_2.pop()\n",
    "print(mylist_2)"
   ]
  },
  {
   "cell_type": "code",
   "execution_count": 26,
   "id": "90c5afbb",
   "metadata": {},
   "outputs": [
    {
     "name": "stdout",
     "output_type": "stream",
     "text": [
      "[1, 'Andi', 'Bulan', False, 'Nina']\n"
     ]
    }
   ],
   "source": [
    "mylist_2.pop(2)\n",
    "print(mylist_2)"
   ]
  },
  {
   "cell_type": "code",
   "execution_count": 27,
   "id": "164d2337",
   "metadata": {},
   "outputs": [
    {
     "name": "stdout",
     "output_type": "stream",
     "text": [
      "[]\n"
     ]
    }
   ],
   "source": [
    "mylist_2.clear()\n",
    "print(mylist_2)"
   ]
  },
  {
   "cell_type": "code",
   "execution_count": 28,
   "id": "80e44606",
   "metadata": {},
   "outputs": [
    {
     "ename": "NameError",
     "evalue": "name 'mylist_2' is not defined",
     "output_type": "error",
     "traceback": [
      "\u001b[1;31m---------------------------------------------------------------------------\u001b[0m",
      "\u001b[1;31mNameError\u001b[0m                                 Traceback (most recent call last)",
      "\u001b[1;32m<ipython-input-28-08e55aeb37a6>\u001b[0m in \u001b[0;36m<module>\u001b[1;34m\u001b[0m\n\u001b[0;32m      1\u001b[0m \u001b[1;32mdel\u001b[0m \u001b[0mmylist_2\u001b[0m\u001b[1;33m\u001b[0m\u001b[1;33m\u001b[0m\u001b[0m\n\u001b[1;32m----> 2\u001b[1;33m \u001b[0mprint\u001b[0m\u001b[1;33m(\u001b[0m\u001b[0mmylist_2\u001b[0m\u001b[1;33m)\u001b[0m\u001b[1;33m\u001b[0m\u001b[1;33m\u001b[0m\u001b[0m\n\u001b[0m",
      "\u001b[1;31mNameError\u001b[0m: name 'mylist_2' is not defined"
     ]
    }
   ],
   "source": [
    "del mylist_2\n",
    "print(mylist_2)"
   ]
  },
  {
   "cell_type": "code",
   "execution_count": null,
   "id": "0c1f5af5",
   "metadata": {},
   "outputs": [],
   "source": [
    "\n",
    "\n"
   ]
  },
  {
   "cell_type": "code",
   "execution_count": null,
   "id": "6d545f06",
   "metadata": {},
   "outputs": [],
   "source": [
    "\n",
    "\n"
   ]
  },
  {
   "cell_type": "markdown",
   "id": "545d7faa",
   "metadata": {},
   "source": [
    "## Exercises"
   ]
  },
  {
   "cell_type": "markdown",
   "id": "4f3be633",
   "metadata": {},
   "source": [
    "**Excercise 1** List of proper divisor\n",
    "\n",
    "A proper divisor of a positive integer, n, is a positive integer less than n which divides evenly into n. Write a program that computes all of the proper divisors of a positive integer. The program will produce a list containing all of the proper divisors as its only result."
   ]
  },
  {
   "cell_type": "markdown",
   "id": "a109608a",
   "metadata": {},
   "source": [
    "for instance n=8, the prover divisor is [1,2,4,8]"
   ]
  },
  {
   "cell_type": "code",
   "execution_count": null,
   "id": "518aca2c",
   "metadata": {},
   "outputs": [],
   "source": []
  },
  {
   "cell_type": "code",
   "execution_count": null,
   "id": "5408a4f6",
   "metadata": {},
   "outputs": [],
   "source": []
  },
  {
   "cell_type": "code",
   "execution_count": null,
   "id": "9cb0206a",
   "metadata": {},
   "outputs": [],
   "source": []
  },
  {
   "cell_type": "code",
   "execution_count": null,
   "id": "581bc8b7",
   "metadata": {},
   "outputs": [],
   "source": []
  },
  {
   "cell_type": "code",
   "execution_count": null,
   "id": "0f937071",
   "metadata": {},
   "outputs": [],
   "source": []
  },
  {
   "cell_type": "markdown",
   "id": "4396847a",
   "metadata": {},
   "source": [
    "**Exercise 2** Perfect Number\n",
    "\n",
    "An integer, n, is said to be perfect when the sum of all of the proper divisors of n is equal to n. For example, 28 is a perfect number because its proper divisors are 1, 2, 4, 7 and 14, and 1 + 2 + 4 + 7 + 14 = 28.\n",
    "\n",
    "Write a program that determines whether or not a positive integer is perfect. If your input n is a perfect number then your\n",
    "program will return True. Otherwise it will return False."
   ]
  },
  {
   "cell_type": "code",
   "execution_count": null,
   "id": "4640453c",
   "metadata": {},
   "outputs": [],
   "source": [
    "total =0\n",
    "for x in mylist:\n",
    "    total += x"
   ]
  },
  {
   "cell_type": "markdown",
   "id": "c7b2c328",
   "metadata": {},
   "source": [
    "# More Challenges"
   ]
  },
  {
   "cell_type": "markdown",
   "id": "4232fad1",
   "metadata": {},
   "source": [
    "<img src=\"Pattern.PNG\" />"
   ]
  },
  {
   "cell_type": "code",
   "execution_count": 72,
   "id": "fe6304c6",
   "metadata": {},
   "outputs": [
    {
     "name": "stdout",
     "output_type": "stream",
     "text": [
      "[1, 2]\n"
     ]
    }
   ],
   "source": [
    "list2D = [[ 1, 2], [3, 4]]\n",
    "# 1 2\n",
    "# 3 4\n",
    "\n",
    "print(list2D[0][:])\n"
   ]
  },
  {
   "cell_type": "markdown",
   "id": "dbcae833",
   "metadata": {},
   "source": [
    "<img src=\"Exer-1.PNG\" />"
   ]
  },
  {
   "cell_type": "code",
   "execution_count": 73,
   "id": "2c83bc5d",
   "metadata": {},
   "outputs": [
    {
     "name": "stdout",
     "output_type": "stream",
     "text": [
      "0.3\n"
     ]
    }
   ],
   "source": [
    "print(abs(-0.3))"
   ]
  }
 ],
 "metadata": {
  "kernelspec": {
   "display_name": "Python 3",
   "language": "python",
   "name": "python3"
  },
  "language_info": {
   "codemirror_mode": {
    "name": "ipython",
    "version": 3
   },
   "file_extension": ".py",
   "mimetype": "text/x-python",
   "name": "python",
   "nbconvert_exporter": "python",
   "pygments_lexer": "ipython3",
   "version": "3.8.8"
  }
 },
 "nbformat": 4,
 "nbformat_minor": 5
}
